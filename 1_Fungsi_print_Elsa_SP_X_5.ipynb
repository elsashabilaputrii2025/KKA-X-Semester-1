{
  "nbformat": 4,
  "nbformat_minor": 0,
  "metadata": {
    "colab": {
      "provenance": [],
      "authorship_tag": "ABX9TyMY/FxtWRFoc2OnfyvTtSMI",
      "include_colab_link": true
    },
    "kernelspec": {
      "name": "python3",
      "display_name": "Python 3"
    },
    "language_info": {
      "name": "python"
    }
  },
  "cells": [
    {
      "cell_type": "markdown",
      "metadata": {
        "id": "view-in-github",
        "colab_type": "text"
      },
      "source": [
        "<a href=\"https://colab.research.google.com/github/elsashabilaputrii2025/KKA-X-Semester-1/blob/main/1_Fungsi_print_Elsa_SP_X_5.ipynb\" target=\"_parent\"><img src=\"https://colab.research.google.com/assets/colab-badge.svg\" alt=\"Open In Colab\"/></a>"
      ]
    },
    {
      "cell_type": "markdown",
      "source": [
        "#1.Menampilkan Teks Bebas"
      ],
      "metadata": {
        "id": "5O2WuF2Fgcej"
      }
    },
    {
      "cell_type": "code",
      "source": [
        "print(\"Hello world!\")"
      ],
      "metadata": {
        "colab": {
          "base_uri": "https://localhost:8080/"
        },
        "id": "D-4TKfAdhlXx",
        "outputId": "554f74a2-3c5d-4996-8776-16dfe6cbb474"
      },
      "execution_count": null,
      "outputs": [
        {
          "output_type": "stream",
          "name": "stdout",
          "text": [
            "Hello world!\n"
          ]
        }
      ]
    },
    {
      "cell_type": "code",
      "source": [
        "print(\"Elsa Shabila Putri\")"
      ],
      "metadata": {
        "colab": {
          "base_uri": "https://localhost:8080/"
        },
        "id": "8zvGENtTii__",
        "outputId": "a64bc5ef-e0e0-4d0a-87a5-98aad0f1c930"
      },
      "execution_count": null,
      "outputs": [
        {
          "output_type": "stream",
          "name": "stdout",
          "text": [
            "Elsa Shabila Putri\n"
          ]
        }
      ]
    },
    {
      "cell_type": "markdown",
      "source": [
        "#2.Menampilkan Nilai Variabel"
      ],
      "metadata": {
        "id": "Q88NMOA_kDPB"
      }
    },
    {
      "cell_type": "code",
      "source": [
        "beratBadan = 46\n",
        "\n",
        "print(beratBadan)"
      ],
      "metadata": {
        "colab": {
          "base_uri": "https://localhost:8080/"
        },
        "id": "Cz8XTEhmlMmk",
        "outputId": "ea1ac6ab-4eaf-45fc-9eb1-9350e42efa09"
      },
      "execution_count": null,
      "outputs": [
        {
          "output_type": "stream",
          "name": "stdout",
          "text": [
            "46\n"
          ]
        }
      ]
    },
    {
      "cell_type": "code",
      "source": [
        "tinggiBadan = 150\n",
        "\n",
        "print(tinggiBadan)"
      ],
      "metadata": {
        "colab": {
          "base_uri": "https://localhost:8080/"
        },
        "id": "51icYl9mmk1Q",
        "outputId": "437ec575-abb4-460d-aa4b-23696376529e"
      },
      "execution_count": null,
      "outputs": [
        {
          "output_type": "stream",
          "name": "stdout",
          "text": [
            "150\n"
          ]
        }
      ]
    },
    {
      "cell_type": "code",
      "source": [
        "Nama = \"Elsa Shabila Putri\"\n",
        "\n",
        "print(Nama)"
      ],
      "metadata": {
        "colab": {
          "base_uri": "https://localhost:8080/"
        },
        "id": "d3yF-hoDnCPi",
        "outputId": "48d78dbd-ca00-47c2-fcfd-044999d8a87b"
      },
      "execution_count": null,
      "outputs": [
        {
          "output_type": "stream",
          "name": "stdout",
          "text": [
            "Elsa Shabila Putri\n"
          ]
        }
      ]
    },
    {
      "cell_type": "code",
      "source": [
        "Namaidola = \"jisoo\"\n",
        "\n",
        "print(Namaidola)"
      ],
      "metadata": {
        "colab": {
          "base_uri": "https://localhost:8080/"
        },
        "id": "cQ0bAfXqnWtf",
        "outputId": "edbd7218-7295-4d3a-e393-ab3c0409fb7f"
      },
      "execution_count": null,
      "outputs": [
        {
          "output_type": "stream",
          "name": "stdout",
          "text": [
            "jisoo\n"
          ]
        }
      ]
    },
    {
      "cell_type": "markdown",
      "source": [
        "#3.Menampilkan Teks Bebas dan Nilai Variabel"
      ],
      "metadata": {
        "id": "NZdU2aQKlDtA"
      }
    },
    {
      "cell_type": "code",
      "source": [
        "print(\"Halo nama saya\", Nama,\". Berat badan saya\",beratBadan,\"kg.\")"
      ],
      "metadata": {
        "colab": {
          "base_uri": "https://localhost:8080/"
        },
        "id": "1pUulSx0lQKb",
        "outputId": "b2672d44-8939-44ad-99a1-5ae72c0985eb"
      },
      "execution_count": null,
      "outputs": [
        {
          "output_type": "stream",
          "name": "stdout",
          "text": [
            "Halo nama saya Elsa Shabila Putri . Berat badan saya 46 kg.\n"
          ]
        }
      ]
    },
    {
      "cell_type": "code",
      "source": [
        "print(\"Halo nama saya \"+ Nama+\" . Berat badan saya \"+str(beratBadan)+\" kg.\")"
      ],
      "metadata": {
        "colab": {
          "base_uri": "https://localhost:8080/"
        },
        "id": "AuohcWIcmC02",
        "outputId": "62c4a3f1-755a-486b-c791-2de20249ad13"
      },
      "execution_count": null,
      "outputs": [
        {
          "output_type": "stream",
          "name": "stdout",
          "text": [
            "Halo nama saya Elsa Shabila Putri . Berat badan saya 46 kg.\n"
          ]
        }
      ]
    },
    {
      "cell_type": "code",
      "source": [
        "print(f\"Halo nama saya {Nama}. Berat badan saya {beratBadan} kg.\")"
      ],
      "metadata": {
        "colab": {
          "base_uri": "https://localhost:8080/"
        },
        "id": "A2A5Av-6mkVe",
        "outputId": "8079eee9-b2f1-44bf-afe6-8faef927b02b"
      },
      "execution_count": null,
      "outputs": [
        {
          "output_type": "stream",
          "name": "stdout",
          "text": [
            "Halo nama saya Elsa Shabila Putri. Berat badan saya 46 kg.\n"
          ]
        }
      ]
    },
    {
      "cell_type": "markdown",
      "source": [
        "#4.Escape Character"
      ],
      "metadata": {
        "id": "fjg14eB7qRBI"
      }
    },
    {
      "cell_type": "code",
      "source": [
        "print(\"Nama: Elsa Shabila Putri\")\n",
        "print(\"Kelas: X.5\")\n",
        "print(\"No. Absen: 11\")"
      ],
      "metadata": {
        "colab": {
          "base_uri": "https://localhost:8080/"
        },
        "id": "6PHqJ6RIqc6G",
        "outputId": "0f7c259a-311c-436e-f6b2-8c8209862542"
      },
      "execution_count": null,
      "outputs": [
        {
          "output_type": "stream",
          "name": "stdout",
          "text": [
            "Nama: Elsa Shabila Putri\n",
            "Kelas: X.5\n",
            "No. Absen: 11\n"
          ]
        }
      ]
    },
    {
      "cell_type": "code",
      "source": [
        "print(\"Nama: Elsa Shabila Putri\\nKelas: X.5\\nNo. Absen: 11\")"
      ],
      "metadata": {
        "colab": {
          "base_uri": "https://localhost:8080/"
        },
        "id": "fjfe2SGEq5Xm",
        "outputId": "05fcbed1-8153-4292-9399-af29b65a4cd8"
      },
      "execution_count": null,
      "outputs": [
        {
          "output_type": "stream",
          "name": "stdout",
          "text": [
            "Nama: Elsa Shabila Putri\n",
            "Kelas: X.5\n",
            "No. Absen: 11\n"
          ]
        }
      ]
    },
    {
      "cell_type": "code",
      "source": [
        "print(\"\"\"Nama\\t\\t: Elsa Shabila Putri\n",
        "Kelas\\t\\t: X.5\n",
        "No. Absen\\t: 11\"\"\")"
      ],
      "metadata": {
        "id": "CuJNP_cfrYYy",
        "colab": {
          "base_uri": "https://localhost:8080/"
        },
        "outputId": "3a6c0ad9-8ed9-4ca3-ca35-51c5e448a4da"
      },
      "execution_count": null,
      "outputs": [
        {
          "output_type": "stream",
          "name": "stdout",
          "text": [
            "Nama\t\t: Elsa Shabila Putri\n",
            "Kelas\t\t: X.5\n",
            "No. Absen\t: 11\n"
          ]
        }
      ]
    },
    {
      "cell_type": "code",
      "source": [
        "print('Nama saya Ja\\'far Shodiq')"
      ],
      "metadata": {
        "colab": {
          "base_uri": "https://localhost:8080/"
        },
        "id": "cQBGsurX0Cw5",
        "outputId": "872404d7-0b34-4fa1-fff1-c5fd80181d5f"
      },
      "execution_count": null,
      "outputs": [
        {
          "output_type": "stream",
          "name": "stdout",
          "text": [
            "Nama saya Ja'far Shodiq\n"
          ]
        }
      ]
    },
    {
      "cell_type": "code",
      "source": [
        "print(\"Nama saya Ja'far Shodiq\")"
      ],
      "metadata": {
        "colab": {
          "base_uri": "https://localhost:8080/"
        },
        "id": "IOvJAW_e0do7",
        "outputId": "c0488865-939e-4701-bbf9-d0f1862786b4"
      },
      "execution_count": null,
      "outputs": [
        {
          "output_type": "stream",
          "name": "stdout",
          "text": [
            "Nama saya Ja'far Shodiq\n"
          ]
        }
      ]
    },
    {
      "cell_type": "code",
      "source": [
        "print(\"Nama saya Ja\\'far Shodiq\")"
      ],
      "metadata": {
        "colab": {
          "base_uri": "https://localhost:8080/"
        },
        "id": "d4MQDy-U0rot",
        "outputId": "b6dade17-4771-4497-a02e-3af5ccc0665a"
      },
      "execution_count": null,
      "outputs": [
        {
          "output_type": "stream",
          "name": "stdout",
          "text": [
            "Nama saya Ja'far Shodiq\n"
          ]
        }
      ]
    },
    {
      "cell_type": "code",
      "source": [
        "print('Bu Shinta berkata, \"Tolong perhatikan TV dan saya.\"')"
      ],
      "metadata": {
        "colab": {
          "base_uri": "https://localhost:8080/"
        },
        "id": "mkICwE7q08NX",
        "outputId": "a71aeeb5-35a0-46e8-f9b8-a20091be64e8"
      },
      "execution_count": null,
      "outputs": [
        {
          "output_type": "stream",
          "name": "stdout",
          "text": [
            "Bu Shinta berkata, \"Tolong perhatikan TV dan saya.\"\n"
          ]
        }
      ]
    },
    {
      "cell_type": "code",
      "source": [
        "print(\"Bu Shinta berkata, \\\"Tolong perhatikan TV dan saya.\\\"\")"
      ],
      "metadata": {
        "colab": {
          "base_uri": "https://localhost:8080/"
        },
        "id": "EzW7pa3t1epG",
        "outputId": "1f5ad1cc-39d6-467a-e9b8-560060ae7abe"
      },
      "execution_count": null,
      "outputs": [
        {
          "output_type": "stream",
          "name": "stdout",
          "text": [
            "Bu Shinta berkata, \"Tolong perhatikan TV dan saya.\"\n"
          ]
        }
      ]
    },
    {
      "cell_type": "code",
      "source": [
        "print(\"Lokasi file tugas KKA adalah di Local disk C:\\\\KKA\\\\Tugas\")"
      ],
      "metadata": {
        "colab": {
          "base_uri": "https://localhost:8080/"
        },
        "id": "ytN_EMw711lW",
        "outputId": "9902e709-5b7c-41b3-dc93-3e77a6b504da"
      },
      "execution_count": null,
      "outputs": [
        {
          "output_type": "stream",
          "name": "stdout",
          "text": [
            "Lokasi file tugas KKA adalah di Local disk C:\\KKA\\Tugas\n"
          ]
        }
      ]
    },
    {
      "cell_type": "code",
      "source": [
        "print(''' Bu Shinta berkata,\"Berikut adalah daftar piket harian kelas x.2 yang disimpan di file D:\\\\MAN Demak\\\\Jadwal Piket.\".''')\n",
        "print(\"\\nSenin\\tSelasa\\tRabu\\nJielo\\tHasbi\\tNaufal\\nAzam\\tAida\\tA'inun\")"
      ],
      "metadata": {
        "colab": {
          "base_uri": "https://localhost:8080/"
        },
        "id": "w0MQAxeXoKqe",
        "outputId": "f22a7b14-f787-4ba6-e85f-c920664854b2"
      },
      "execution_count": null,
      "outputs": [
        {
          "output_type": "stream",
          "name": "stdout",
          "text": [
            " Bu Shinta berkata,\"Berikut adalah daftar piket harian kelas x.2 yang disimpan di file D:\\MAN Demak\\Jadwal Piket.\".\n",
            "\n",
            "Senin\tSelasa\tRabu\n",
            "Jielo\tHasbi\tNaufal\n",
            "Azam\tAida\tA'inun\n"
          ]
        }
      ]
    },
    {
      "cell_type": "markdown",
      "source": [
        "#Paramater Fungsi print"
      ],
      "metadata": {
        "id": "VopE-Kdp2qpx"
      }
    },
    {
      "cell_type": "code",
      "source": [
        "nama_siswa_1 = \"Jielo\"\n",
        "nama_siswa_2 = \"Aida\"\n",
        "nama_siswa_3 = \"Dani\"\n",
        "\n",
        "print(nama_siswa_1, end=\"_\")\n",
        "print(nama_siswa_2, end=\"_\")\n",
        "print(nama_siswa_3)"
      ],
      "metadata": {
        "id": "Qmmh2yuI3SHs",
        "colab": {
          "base_uri": "https://localhost:8080/"
        },
        "outputId": "66bcc0a1-dd28-4b95-873f-16bd85ba7deb"
      },
      "execution_count": null,
      "outputs": [
        {
          "output_type": "stream",
          "name": "stdout",
          "text": [
            "Jielo_Aida_Dani\n"
          ]
        }
      ]
    },
    {
      "cell_type": "code",
      "source": [
        "\n",
        "nama_siswa_1 = \"Jielo\"\n",
        "nama_siswa_2 = \"Aida\"\n",
        "nama_siswa_3 = \"Dani\"\n",
        "nama_siswa_4 = \"Nurul\"\n",
        "\n",
        "print(nama_siswa_4, end=\"/\")\n",
        "print(nama_siswa_2, end=\"/\")\n",
        "print(nama_siswa_1, end=\"/\")\n",
        "print(nama_siswa_3)"
      ],
      "metadata": {
        "colab": {
          "base_uri": "https://localhost:8080/"
        },
        "id": "_70YVDh85b2k",
        "outputId": "28654e43-3bd5-4cb4-c284-2ba44c58b246"
      },
      "execution_count": null,
      "outputs": [
        {
          "output_type": "stream",
          "name": "stdout",
          "text": [
            "Nurul/Aida/Jielo/Dani\n"
          ]
        }
      ]
    },
    {
      "cell_type": "code",
      "source": [
        "nama_siswa_5 = \"Hasbi\"\n",
        "nama_siswa_6 = \"Habibi\"\n",
        "nama_siswa_7 = \"Rendra\"\n",
        "nama_siswa_8 = \"Naufal\"\n",
        "\n",
        "print(nama_siswa_8, nama_siswa_7, nama_siswa_5, nama_siswa_6, sep=\"-\")"
      ],
      "metadata": {
        "colab": {
          "base_uri": "https://localhost:8080/"
        },
        "id": "yZyOvXdh8agt",
        "outputId": "f60e64f7-9ddf-49a4-acfe-734c0f05b50a"
      },
      "execution_count": null,
      "outputs": [
        {
          "output_type": "stream",
          "name": "stdout",
          "text": [
            "Naufal-Rendra-Hasbi-Habibi\n"
          ]
        }
      ]
    },
    {
      "cell_type": "code",
      "source": [
        "print(nama_siswa_5, nama_siswa_8, nama_siswa_7, nama_siswa_6, nama_siswa_8, sep=\"*\")\n",
        "print(nama_siswa_7, nama_siswa_6, nama_siswa_5, nama_siswa_7, nama_siswa_7, sep=\"-\")"
      ],
      "metadata": {
        "colab": {
          "base_uri": "https://localhost:8080/"
        },
        "id": "YKsYnWeb9dHl",
        "outputId": "8f69b383-d41b-45a4-b48d-2635288288e4"
      },
      "execution_count": null,
      "outputs": [
        {
          "output_type": "stream",
          "name": "stdout",
          "text": [
            "Hasbi*Naufal*Rendra*Habibi*Naufal\n",
            "Rendra-Habibi-Hasbi-Rendra-Rendra\n"
          ]
        }
      ]
    }
  ]
}